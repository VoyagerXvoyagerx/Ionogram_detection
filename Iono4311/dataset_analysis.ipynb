{
 "cells": [
  {
   "cell_type": "code",
   "execution_count": 1,
   "metadata": {},
   "outputs": [
    {
     "data": {
      "text/plain": [
       "'/home/ubuntu/mmyolo/Iono4311'"
      ]
     },
     "execution_count": 1,
     "metadata": {},
     "output_type": "execute_result"
    }
   ],
   "source": [
    "import os\n",
    "import json\n",
    "import numpy as np\n",
    "import pandas as pd\n",
    "from os import listdir\n",
    "from os.path import isfile, join, isdir, getsize, exists\n",
    "%pwd"
   ]
  },
  {
   "cell_type": "code",
   "execution_count": 2,
   "metadata": {},
   "outputs": [
    {
     "name": "stdout",
     "output_type": "stream",
     "text": [
      "annotations_all 4311 images\n",
      "      E  Esl  Esc    F1    F2  Fspread\n",
      "0  2040  753  893  2059  4177      133 \n",
      "\n",
      "train 3019 images\n",
      "      E  Esl  Esc    F1    F2  Fspread\n",
      "0  1436  529  629  1459  2928       91 \n",
      "\n",
      "val 646 images\n",
      "     E  Esl  Esc   F1   F2  Fspread\n",
      "0  311  101  137  303  626       20 \n",
      "\n",
      "test 646 images\n",
      "     E  Esl  Esc   F1   F2  Fspread\n",
      "0  293  123  127  297  623       22 \n",
      "\n"
     ]
    }
   ],
   "source": [
    "# Statistics\n",
    "\n",
    "all_file = './annotations/annotations_all.json'\n",
    "train_file = './annotations/train.json'\n",
    "val_file = './annotations/val.json'\n",
    "test_file = './annotations/test.json'\n",
    "\n",
    "data_list = []\n",
    "\n",
    "cnt = 0\n",
    "for index, filename in enumerate((all_file, train_file, val_file, test_file)):\n",
    "    with open(filename, 'r') as f:\n",
    "        annotations = json.load(f)\n",
    "    dataset = pd.DataFrame(np.zeros((1, 6), dtype=int), columns=['E', 'Esl', 'Esc', 'F1', 'F2', 'Fspread'])\n",
    "    for ins in annotations[\"annotations\"]:\n",
    "        dataset.iloc[0, ins[\"category_id\"]-1] += 1\n",
    "    set_name = filename.split('/')\n",
    "    print(set_name[-1][: -5], len(annotations[\"images\"]), 'images')\n",
    "    print(dataset, '\\n')\n",
    "    f.close()\n",
    "    if (cnt == 1):\n",
    "        break"
   ]
  }
 ],
 "metadata": {
  "kernelspec": {
   "display_name": "mmlab",
   "language": "python",
   "name": "python3"
  },
  "language_info": {
   "codemirror_mode": {
    "name": "ipython",
    "version": 3
   },
   "file_extension": ".py",
   "mimetype": "text/x-python",
   "name": "python",
   "nbconvert_exporter": "python",
   "pygments_lexer": "ipython3",
   "version": "3.8.16"
  },
  "orig_nbformat": 4,
  "vscode": {
   "interpreter": {
    "hash": "3f0cac9b4c15a115bcc92a822a73b5ddff4c7104025f7602d5a374ddd4c7361d"
   }
  }
 },
 "nbformat": 4,
 "nbformat_minor": 2
}
