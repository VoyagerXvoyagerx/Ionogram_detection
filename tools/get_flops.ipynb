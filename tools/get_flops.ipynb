{
 "cells": [
  {
   "cell_type": "code",
   "execution_count": null,
   "metadata": {},
   "outputs": [],
   "source": [
    "import argparse\n",
    "\n",
    "import numpy as np\n",
    "import torch\n",
    "from fvcore.nn import FlopCountAnalysis, flop_count_table\n",
    "from mmdet.apis import init_detector\n",
    "from mmengine import DictAction\n",
    "from mmyolo.utils import register_all_modules\n",
    "\n",
    "register_all_modules()"
   ]
  },
  {
   "cell_type": "code",
   "execution_count": null,
   "metadata": {},
   "outputs": [],
   "source": [
    "from os import listdir\n",
    "\n",
    "config_root = '/home/ubuntu/mmyolo/configs/custom_dataset/'\n",
    "for filename in listdir(config_root):\n",
    "    if filename[-3:] != '.py':\n",
    "        continue\n",
    "    model_name = filename.split('_')[0] + '-' + filename.split('_')[1][:1]\n",
    "    config = config_root + filename\n",
    "    shape = [640, 640]\n",
    "\n",
    "    if len(shape) == 1:\n",
    "        h = w = shape[0]\n",
    "    elif len(shape) == 2:\n",
    "        h, w = shape\n",
    "    else:\n",
    "        raise ValueError('invalid input shape')\n",
    "    # ori_shape = (1, 3, h, w)\n",
    "    divisor = 32\n",
    "    if divisor > 0:\n",
    "        h = int(np.ceil(h / divisor)) * divisor\n",
    "        w = int(np.ceil(w / divisor)) * divisor\n",
    "\n",
    "    input_shape = (1, 3, h, w)\n",
    "\n",
    "    # print('input shape is ', input_shape)\n",
    "\n",
    "    model = init_detector(config, device='cuda:0')  # or device='cuda:0'\n",
    "\n",
    "    try:\n",
    "        model = init_detector(config, device='cpu')  # or device='cuda:0'\n",
    "    except:\n",
    "        print('Error', filename)\n",
    "\n",
    "    flops = FlopCountAnalysis(model, torch.ones(input_shape))\n",
    "\n",
    "    # params = parameter_count_table(model)\n",
    "    flops_data = flop_count_table(flops)\n",
    "\n",
    "    # FLOPS: floating point operations per second\n",
    "    # FLOPs: floating point operations\n",
    "\n",
    "    FLOP = flops_data.split('|')\n",
    "    params, FLOPs = FLOP[10], FLOP[11]\n",
    "    print(model_name, params, FLOPs)"
   ]
  }
 ],
 "metadata": {
  "kernelspec": {
   "display_name": "mmlab",
   "language": "python",
   "name": "python3"
  },
  "language_info": {
   "codemirror_mode": {
    "name": "ipython",
    "version": 3
   },
   "file_extension": ".py",
   "mimetype": "text/x-python",
   "name": "python",
   "nbconvert_exporter": "python",
   "pygments_lexer": "ipython3",
   "version": "3.8.16"
  },
  "orig_nbformat": 4,
  "vscode": {
   "interpreter": {
    "hash": "3f0cac9b4c15a115bcc92a822a73b5ddff4c7104025f7602d5a374ddd4c7361d"
   }
  }
 },
 "nbformat": 4,
 "nbformat_minor": 2
}
