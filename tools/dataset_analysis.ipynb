{
 "cells": [
  {
   "cell_type": "code",
   "execution_count": 1,
   "metadata": {},
   "outputs": [
    {
     "name": "stdout",
     "output_type": "stream",
     "text": [
      "annotations_all 4311 images\n",
      "      E  Esl  Esc    F1    F2  Fspread\n",
      "0  2040  753  893  2059  4177      133 \n",
      "\n",
      "train 3019 images\n",
      "      E  Esl  Esc    F1    F2  Fspread\n",
      "0  1436  529  629  1459  2928       91 \n",
      "\n",
      "val 646 images\n",
      "     E  Esl  Esc   F1   F2  Fspread\n",
      "0  311  101  137  303  626       20 \n",
      "\n",
      "test 646 images\n",
      "     E  Esl  Esc   F1   F2  Fspread\n",
      "0  293  123  127  297  623       22 \n",
      "\n"
     ]
    }
   ],
   "source": [
    "import json\n",
    "import numpy as np\n",
    "import pandas as pd\n",
    "\n",
    "\n",
    "# 指定标注文件路径\n",
    "ann_file_all = '/home/ubuntu/ionogram_detection/Iono4311/annotations/annotations_all.json'\n",
    "ann_file_train = '/home/ubuntu/ionogram_detection/Iono4311/annotations/train.json'\n",
    "ann_file_val = '/home/ubuntu/ionogram_detection/Iono4311/annotations/val.json'\n",
    "ann_file_test = '/home/ubuntu/ionogram_detection/Iono4311/annotations/test.json'\n",
    "\n",
    "for index, filename in enumerate((ann_file_all, ann_file_train, ann_file_val, ann_file_test)):\n",
    "    with open(filename, 'r') as f:\n",
    "        annotations = json.load(f)\n",
    "    dataset = pd.DataFrame(np.zeros((1, 6), dtype=int), columns=['E', 'Esl', 'Esc', 'F1', 'F2', 'Fspread'])\n",
    "    for ins in annotations[\"annotations\"]:\n",
    "        dataset.iloc[0, ins[\"category_id\"]-1] += 1\n",
    "    set_name = filename.split('/')\n",
    "    print(set_name[-1][: -5], len(annotations[\"images\"]), 'images')\n",
    "    print(dataset, '\\n')\n",
    "    f.close()"
   ]
  }
 ],
 "metadata": {
  "kernelspec": {
   "display_name": "mmlab",
   "language": "python",
   "name": "python3"
  },
  "language_info": {
   "codemirror_mode": {
    "name": "ipython",
    "version": 3
   },
   "file_extension": ".py",
   "mimetype": "text/x-python",
   "name": "python",
   "nbconvert_exporter": "python",
   "pygments_lexer": "ipython3",
   "version": "3.8.16"
  },
  "orig_nbformat": 4,
  "vscode": {
   "interpreter": {
    "hash": "3f0cac9b4c15a115bcc92a822a73b5ddff4c7104025f7602d5a374ddd4c7361d"
   }
  }
 },
 "nbformat": 4,
 "nbformat_minor": 2
}
