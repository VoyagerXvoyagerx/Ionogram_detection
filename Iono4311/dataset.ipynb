{
 "cells": [
  {
   "cell_type": "code",
   "execution_count": 36,
   "metadata": {},
   "outputs": [
    {
     "data": {
      "text/plain": [
       "'/home/ubuntu/mmyolo/Iono4311'"
      ]
     },
     "execution_count": 36,
     "metadata": {},
     "output_type": "execute_result"
    }
   ],
   "source": [
    "import os\n",
    "import json\n",
    "import numpy as np\n",
    "import pandas as pd\n",
    "from os import listdir\n",
    "from os.path import isfile, join, isdir, getsize, exists\n",
    "%pwd"
   ]
  },
  {
   "attachments": {},
   "cell_type": "markdown",
   "metadata": {},
   "source": [
    "Model Size"
   ]
  },
  {
   "cell_type": "code",
   "execution_count": 56,
   "metadata": {},
   "outputs": [
    {
     "name": "stdout",
     "output_type": "stream",
     "text": [
      "yolov6_s 146\n",
      "yolov6_l 448\n",
      "yolov5_s 54\n",
      "yolov7_x 543\n",
      "yolov5_m 161\n",
      "yolov6_m 285\n",
      "yolov7_l 287\n"
     ]
    }
   ],
   "source": [
    "model_size = pd.DataFrame()\n",
    "\n",
    "mypath = '/home/ubuntu/mmyolo/work_dirs'\n",
    "onlyfiles = [f for f in listdir(mypath) if isdir(join(mypath, f))]\n",
    "for f in listdir(mypath):\n",
    "    work_folder = join(mypath, f)\n",
    "    if isdir(join(mypath, f)) and f != 'dataset_analysis':\n",
    "        work_folder = join(mypath, f)\n",
    "        coco_folder = join(work_folder, 'best_coco/')\n",
    "        if exists(coco_folder):\n",
    "            for ckpt_name in listdir(coco_folder):\n",
    "                ckpt = join(coco_folder, ckpt_name)\n",
    "                # print(int(getsize(ckpt)/1024/1024))\n",
    "                # print(work_folder)\n",
    "                root = work_folder.split('/')\n",
    "                models = root[-1].split('_')\n",
    "                models.pop()\n",
    "                print(\"_\".join(models), int(getsize(ckpt)/1024/1024))\n",
    "                break\n",
    "    if isfile(work_folder):\n",
    "        root = work_folder.split('/')\n",
    "        models = root[-1].split('_')\n",
    "        models = models[0] + '_' + str(models[1])[0]\n",
    "        # print(models, 'pre-train', int(getsize(work_folder)/1024/1024))"
   ]
  },
  {
   "cell_type": "code",
   "execution_count": 48,
   "metadata": {},
   "outputs": [
    {
     "data": {
      "text/html": [
       "<div>\n",
       "<style scoped>\n",
       "    .dataframe tbody tr th:only-of-type {\n",
       "        vertical-align: middle;\n",
       "    }\n",
       "\n",
       "    .dataframe tbody tr th {\n",
       "        vertical-align: top;\n",
       "    }\n",
       "\n",
       "    .dataframe thead th {\n",
       "        text-align: right;\n",
       "    }\n",
       "</style>\n",
       "<table border=\"1\" class=\"dataframe\">\n",
       "  <thead>\n",
       "    <tr style=\"text-align: right;\">\n",
       "      <th></th>\n",
       "      <th>col1</th>\n",
       "      <th>col2</th>\n",
       "    </tr>\n",
       "  </thead>\n",
       "  <tbody>\n",
       "    <tr>\n",
       "      <th>a</th>\n",
       "      <td>0</td>\n",
       "      <td>2</td>\n",
       "    </tr>\n",
       "    <tr>\n",
       "      <th>b</th>\n",
       "      <td>1</td>\n",
       "      <td>3</td>\n",
       "    </tr>\n",
       "  </tbody>\n",
       "</table>\n",
       "</div>"
      ],
      "text/plain": [
       "   col1  col2\n",
       "a     0     2\n",
       "b     1     3"
      ]
     },
     "execution_count": 48,
     "metadata": {},
     "output_type": "execute_result"
    }
   ],
   "source": [
    "df2 = pd.DataFrame(np.array([[1, 2, 3], [4, 5, 6], [7, 8, 9]]), index=['a', 'b', 'c'])\n",
    "df2\n",
    "\n",
    "d = {'col1': [0, 1], 'col2': [2, 3]}\n",
    "df4 = pd.DataFrame(d, index=['a', 'b'])\n",
    "df4"
   ]
  },
  {
   "cell_type": "code",
   "execution_count": 4,
   "metadata": {},
   "outputs": [
    {
     "name": "stdout",
     "output_type": "stream",
     "text": [
      "annotations_all 4311 images\n",
      "      E  Esl  Esc    F1    F2  Fspread\n",
      "0  2040  753  893  2059  4177      133 \n",
      "\n",
      "train 3019 images\n",
      "      E  Esl  Esc    F1    F2  Fspread\n",
      "0  1436  529  629  1459  2928       91 \n",
      "\n",
      "val 646 images\n",
      "     E  Esl  Esc   F1   F2  Fspread\n",
      "0  311  101  137  303  626       20 \n",
      "\n",
      "test 646 images\n",
      "     E  Esl  Esc   F1   F2  Fspread\n",
      "0  293  123  127  297  623       22 \n",
      "\n"
     ]
    }
   ],
   "source": [
    "# Statistics\n",
    "\n",
    "all_file = './annotations/annotations_all.json'\n",
    "train_file = './annotations/train.json'\n",
    "val_file = './annotations/val.json'\n",
    "test_file = './annotations/test.json'\n",
    "\n",
    "data_list = []\n",
    "\n",
    "cnt = 0\n",
    "for index, filename in enumerate((all_file, train_file, val_file, test_file)):\n",
    "    with open(filename, 'r') as f:\n",
    "        annotations = json.load(f)\n",
    "    dataset = pd.DataFrame(np.zeros((1, 6), dtype=int), columns=['E', 'Esl', 'Esc', 'F1', 'F2', 'Fspread'])\n",
    "    for ins in annotations[\"annotations\"]:\n",
    "        dataset.iloc[0, ins[\"category_id\"]-1] += 1\n",
    "    set_name = filename.split('/')\n",
    "    print(set_name[-1][: -5], len(annotations[\"images\"]), 'images')\n",
    "    print(dataset, '\\n')\n",
    "    f.close()\n",
    "    if (cnt == 1):\n",
    "        break"
   ]
  },
  {
   "attachments": {},
   "cell_type": "markdown",
   "metadata": {},
   "source": [
    "Move dataset"
   ]
  },
  {
   "cell_type": "code",
   "execution_count": 18,
   "metadata": {},
   "outputs": [],
   "source": [
    "# import shutil\n",
    "\n",
    "# with open(test_file, 'r') as f:\n",
    "#     annotations = json.load(f)\n",
    "# for image in annotations['images']:\n",
    "#     src = \"./images/\" + image['file_name']\n",
    "#     dest = \"./test_images/\" + image['file_name']\n",
    "#     shutil.copy(src, dest)"
   ]
  }
 ],
 "metadata": {
  "kernelspec": {
   "display_name": "mmlab",
   "language": "python",
   "name": "python3"
  },
  "language_info": {
   "codemirror_mode": {
    "name": "ipython",
    "version": 3
   },
   "file_extension": ".py",
   "mimetype": "text/x-python",
   "name": "python",
   "nbconvert_exporter": "python",
   "pygments_lexer": "ipython3",
   "version": "3.8.16"
  },
  "orig_nbformat": 4,
  "vscode": {
   "interpreter": {
    "hash": "3f0cac9b4c15a115bcc92a822a73b5ddff4c7104025f7602d5a374ddd4c7361d"
   }
  }
 },
 "nbformat": 4,
 "nbformat_minor": 2
}
